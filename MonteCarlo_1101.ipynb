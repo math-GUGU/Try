{
 "cells": [
  {
   "cell_type": "markdown",
   "metadata": {},
   "source": [
    "## Monte Carlo\n",
    "\n",
    "蒙特卡罗是一种通过模拟随机事件进行数值计算的方法，在金融工程，计算物理，机器学习等领域有广泛的应用。与之相对的是确定性算法。"
   ]
  },
  {
   "cell_type": "markdown",
   "metadata": {},
   "source": [
    "### 一些例子\n",
    "\n",
    "计算圆周率，在一个正方形内$[0,1]\\times[0,1]$,随机扔下总数$N$的豆子，统计落在$\\frac{1}{4}$圆内的豆子数量为$n$，有\n",
    "$$\\frac{n}{N}\\approx\\frac{\\pi}{4}$$\n",
    "\n",
    "我们用python实现一下，需要用到的几个模块:\n",
    "\n",
    "- array，生成$[0,1]$随机数：numpy\n",
    "\n",
    "- 作图: matplotlib"
   ]
  },
  {
   "cell_type": "code",
   "execution_count": 7,
   "metadata": {},
   "outputs": [
    {
     "name": "stdout",
     "output_type": "stream",
     "text": [
      "Total: 100, est:3.080000\n",
      "Total: 1000, est:3.132000\n",
      "Total: 10000, est:3.140400\n",
      "Total: 100000, est:3.147160\n"
     ]
    }
   ],
   "source": [
    "%matplotlib inline\n",
    "# 这句是用来确保jupyter可以显示图片的  \n",
    "import numpy as np\n",
    "import matplotlib.pyplot as plt\n",
    "\n",
    "# define random seed\n",
    "# 设定随机种子确保结果可复现\n",
    "np.random.seed(1)\n",
    "\n",
    "N = [100, 1000, 10000, 100000]\n",
    "\n",
    "def est(n):\n",
    "    x = np.random.random_sample(n)\n",
    "    y = np.random.random_sample(n)\n",
    "\n",
    "    z = (x**2+y**2)<=1\n",
    "    pi = 4*np.mean(z)\n",
    "    return pi\n",
    "\n",
    "for n in N:\n",
    "    print('Total: %d, est:%f'%(n, est(n)))"
   ]
  },
  {
   "cell_type": "markdown",
   "metadata": {},
   "source": [
    "可以看到，这里是符合大数定理的，随着N的增加，逼近$\\pi$的精确值"
   ]
  },
  {
   "cell_type": "code",
   "execution_count": 19,
   "metadata": {},
   "outputs": [
    {
     "data": {
      "image/png": "[encoded data removed]",
      "text/plain": [
       "<matplotlib.figure.Figure at 0x148f46addd8>"
      ]
     },
     "metadata": {},
     "output_type": "display_data"
    }
   ],
   "source": [
    "# 画一个模拟图\n",
    "n = 1000\n",
    "x = np.random.random_sample(n)\n",
    "y = np.random.random_sample(n)\n",
    "z = ((x**2+y**2)<=1).astype(int) # bool -> int\n",
    "plt.figure(figsize=(5,5))\n",
    "colors = ['red', 'blue']\n",
    "for xi,yi,i in zip(x,y,z):\n",
    "    plt.scatter(xi,yi,color=colors[i])"
   ]
  },
  {
   "cell_type": "markdown",
   "metadata": {},
   "source": [
    "再来一个小例子，如果你学到随机过程这门课，它有很多很讨人厌的问题需要琢磨，其中有一类问题叫，**排队问题**；有一个经典的概率问题是计算房间里存在两个人**同一天生日**的概率，这个问题有一个动态版本的:\n",
    "\n",
    "这里有一个空房间，总有人会进入这一房间，且只进不出，服从速率为$\\lambda=1$的**泊松过程**，或者说每个人到达的间隔时间服从参数为$\\lambda=1$的指数分布，问：房间中有两个人生日是同一天的所需时间的期望值是多少？"
   ]
  },
  {
   "cell_type": "code",
   "execution_count": 40,
   "metadata": {},
   "outputs": [
    {
     "name": "stdout",
     "output_type": "stream",
     "text": [
      "N: 10, estimate: 23.563299\n",
      "N: 100, estimate: 25.898208\n",
      "N: 1000, estimate: 25.215546\n",
      "N: 10000, estimate: 24.540345\n"
     ]
    }
   ],
   "source": [
    "# 用公式计算我头都大了\n",
    "# 如果只是做一个估计，则可以通过模拟的方式\n",
    "np.random.seed(1)\n",
    "\n",
    "# 同样利用大数原理，模拟足够多的事件，每次记录所用时间，最后求样本期望，作为对总体的估计\n",
    "N = [10, 100, 1000, 10000]\n",
    "D = 365\n",
    "s = 1\n",
    "def simulate_one_event(s):\n",
    "    people = []\n",
    "    time_used = 0\n",
    "    while True:\n",
    "        new_guy = np.random.randint(1,365,1)[0]\n",
    "        time_i = np.random.exponential(s,1)[0]\n",
    "        time_used += time_i\n",
    "        # 假如有相同生日，结束；否则，进入房间等下一个人\n",
    "        if new_guy in people:\n",
    "            break\n",
    "        else:\n",
    "            people.append(new_guy)\n",
    "    return people, time_used\n",
    "\n",
    "for n in N:\n",
    "    time = []\n",
    "    for j in range(n):\n",
    "        _, time_i = simulate_one_event(s)\n",
    "        time.append(time_i)\n",
    "    print('N: %d, estimate: %f'%(n, np.mean(time)))"
   ]
  },
  {
   "cell_type": "markdown",
   "metadata": {},
   "source": [
    "### 做个小题目\n",
    "\n",
    "统计学有一种方法叫bootstrap，它跟Monte Carlo是很类似的，也是通过模拟的方式来做估计，bootstrap的特点则在于重采样。通常我们做参数估计，是对手头有的样本，比如$12.5,14.5,12.7,13.4,15.0$，假设知道它们的总体是正态分布，用样本均值方差来对总体的均值方差等作估计。\n",
    "\n",
    "bootstrap的想法则不一样，它是把这一些数据当成总体，通过对这一“总体”进行有放回的采样，对统计量做出估计。\n",
    "\n",
    "问：现有数据$X$，\n",
    "\n",
    "1. 已知来自正态分布，给出均值估计值和95%置信区间；\n",
    "2. 采用bootstrap的做法，对数据进行重采样，基于采样数据的估计值，给出均值估计和95%置信区间；与1对比如何。"
   ]
  },
  {
   "cell_type": "code",
   "execution_count": 43,
   "metadata": {},
   "outputs": [],
   "source": [
    "# 注，这个是给定数据，请基于x作答\n",
    "np.random.seed(1) \n",
    "x = np.random.normal(3,3,20)"
   ]
  }
 ],
 "metadata": {
  "kernelspec": {
   "display_name": "Python 3",
   "language": "python",
   "name": "python3"
  },
  "language_info": {
   "codemirror_mode": {
    "name": "ipython",
    "version": 3
   },
   "file_extension": ".py",
   "mimetype": "text/x-python",
   "name": "python",
   "nbconvert_exporter": "python",
   "pygments_lexer": "ipython3",
   "version": "3.6.4"
  }
 },
 "nbformat": 4,
 "nbformat_minor": 2
}
